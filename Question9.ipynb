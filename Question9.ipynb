{
 "cells": [
  {
   "cell_type": "code",
   "execution_count": 1,
   "metadata": {},
   "outputs": [
    {
     "name": "stdout",
     "output_type": "stream",
     "text": [
      "Farmer 0 produced Cabbage\n",
      "Farmer 1 produced Tomato\n",
      "Consumer 2 is waiting for Carrot\n",
      "Farmer 2 produced Tomato\n",
      "Consumer 3 is waiting for Cabbage\n",
      "Consumer 4 purchased Tomato from Farmer 2\n",
      "Simulation finished.\n"
     ]
    }
   ],
   "source": [
    "import threading\n",
    "import time\n",
    "import queue\n",
    "import random\n",
    "\n",
    "class VegetableMarket:\n",
    "    def __init__(self, capacity):\n",
    "        self.capacity = capacity\n",
    "        self.vegetable_queue = queue.Queue(maxsize=capacity)\n",
    "        self.stop_simulation = False\n",
    "        self.lock = threading.Lock()\n",
    "\n",
    "    def farmer_produce(self, farmer_id, vegetable_type):\n",
    "        while not self.stop_simulation:\n",
    "            time.sleep(random.uniform(1, 3))\n",
    "            with self.lock:\n",
    "                if not self.vegetable_queue.full():\n",
    "                    self.vegetable_queue.put((farmer_id, vegetable_type))\n",
    "                    print(f\"Farmer {farmer_id} produced {vegetable_type}\")\n",
    "\n",
    "    def consumer_purchase(self, consumer_id, desired_vegetable):\n",
    "        while not self.stop_simulation:\n",
    "            with self.lock:\n",
    "                try:\n",
    "                    farmer_id, vegetable_type = self.vegetable_queue.get(timeout=1)\n",
    "                    if vegetable_type == desired_vegetable:\n",
    "                        print(\n",
    "                            f\"Consumer {consumer_id} purchased {vegetable_type} from Farmer {farmer_id}\"\n",
    "                        )\n",
    "                        return\n",
    "                    else:\n",
    "                        print(\n",
    "                            f\"Consumer {consumer_id} is waiting for {desired_vegetable}\"\n",
    "                        )\n",
    "                except queue.Empty:\n",
    "                    pass\n",
    "\n",
    "market = VegetableMarket(capacity=5)\n",
    "\n",
    "farmers = []\n",
    "for farmer_id in range(3):\n",
    "    vegetable_type = random.choice([\"Tomato\", \"Carrot\", \"Cabbage\"])\n",
    "    farmer_thread = threading.Thread(\n",
    "        target=market.farmer_produce, args=(farmer_id, vegetable_type)\n",
    "    )\n",
    "    farmers.append(farmer_thread)\n",
    "    farmer_thread.start()\n",
    "\n",
    "consumers = []\n",
    "for consumer_id in range(5):\n",
    "    desired_vegetable = random.choice([\"Tomato\", \"Carrot\", \"Cabbage\"])\n",
    "    consumer_thread = threading.Thread(\n",
    "        target=market.consumer_purchase, args=(consumer_id, desired_vegetable)\n",
    "    )\n",
    "    consumers.append(consumer_thread)\n",
    "    consumer_thread.start()\n",
    "\n",
    "time.sleep(20)\n",
    "\n",
    "market.stop_simulation = True\n",
    "\n",
    "for farmer_thread in farmers:\n",
    "    farmer_thread.join()\n",
    "\n",
    "for consumer_thread in consumers:\n",
    "    consumer_thread.join()\n",
    "\n",
    "print(\"Simulation finished.\")"
   ]
  },
  {
   "cell_type": "code",
   "execution_count": null,
   "metadata": {},
   "outputs": [],
   "source": []
  }
 ],
 "metadata": {
  "kernelspec": {
   "display_name": "Python 3",
   "language": "python",
   "name": "python3"
  },
  "language_info": {
   "codemirror_mode": {
    "name": "ipython",
    "version": 3
   },
   "file_extension": ".py",
   "mimetype": "text/x-python",
   "name": "python",
   "nbconvert_exporter": "python",
   "pygments_lexer": "ipython3",
   "version": "3.12.0"
  }
 },
 "nbformat": 4,
 "nbformat_minor": 2
}
