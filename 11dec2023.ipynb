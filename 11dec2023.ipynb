{
 "cells": [
  {
   "cell_type": "code",
   "execution_count": 3,
   "metadata": {},
   "outputs": [
    {
     "name": "stdout",
     "output_type": "stream",
     "text": [
      "10\n",
      "This is a public method.\n"
     ]
    },
    {
     "ename": "AttributeError",
     "evalue": "'MyClass' object has no attribute '__private_variable'",
     "output_type": "error",
     "traceback": [
      "\u001b[1;31m---------------------------------------------------------------------------\u001b[0m",
      "\u001b[1;31mAttributeError\u001b[0m                            Traceback (most recent call last)",
      "\u001b[1;32md:\\091\\1BM21AI091_OOP\\11dec2023.ipynb Cell 1\u001b[0m line \u001b[0;36m1\n\u001b[0;32m     <a href='vscode-notebook-cell:/d%3A/091/1BM21AI091_OOP/11dec2023.ipynb#W0sZmlsZQ%3D%3D?line=13'>14</a>\u001b[0m \u001b[39mprint\u001b[39m(obj\u001b[39m.\u001b[39mpublic_variable)\n\u001b[0;32m     <a href='vscode-notebook-cell:/d%3A/091/1BM21AI091_OOP/11dec2023.ipynb#W0sZmlsZQ%3D%3D?line=14'>15</a>\u001b[0m obj\u001b[39m.\u001b[39mpublic_method()\n\u001b[1;32m---> <a href='vscode-notebook-cell:/d%3A/091/1BM21AI091_OOP/11dec2023.ipynb#W0sZmlsZQ%3D%3D?line=16'>17</a>\u001b[0m \u001b[39mprint\u001b[39m(obj\u001b[39m.\u001b[39;49m__private_variable)\n\u001b[0;32m     <a href='vscode-notebook-cell:/d%3A/091/1BM21AI091_OOP/11dec2023.ipynb#W0sZmlsZQ%3D%3D?line=17'>18</a>\u001b[0m obj\u001b[39m.\u001b[39m__private_method()\n",
      "\u001b[1;31mAttributeError\u001b[0m: 'MyClass' object has no attribute '__private_variable'"
     ]
    }
   ],
   "source": [
    "class MyClass:\n",
    "    def __init__(self):\n",
    "        self.public_variable = 10\n",
    "        self.__private_var1able = 20\n",
    "\n",
    "\n",
    "    def public_method(self):\n",
    "        print(\"This is a public method.\")\n",
    "\n",
    "    def __private_method(seif):\n",
    "        print(\"This 1s a private method.\")\n",
    "\n",
    "obj = MyClass()\n",
    "print(obj.public_variable)\n",
    "obj.public_method()\n",
    "\n",
    "print(obj.__private_variable)\n",
    "obj.__private_method()"
   ]
  },
  {
   "cell_type": "markdown",
   "metadata": {},
   "source": [
    "***Accessing Private Variables and Methods with Getters and Setters***"
   ]
  },
  {
   "cell_type": "code",
   "execution_count": 6,
   "metadata": {},
   "outputs": [
    {
     "name": "stdout",
     "output_type": "stream",
     "text": [
      "Private variable using getter: 10\n",
      "Private variable after modification: 20\n",
      "The private variable is: 20\n",
      "The private variable is: 20\n"
     ]
    }
   ],
   "source": [
    "class MyClass2:\n",
    "  def __init__(self):\n",
    "    # Rename private variable\n",
    "    self.__private_variable = 10\n",
    "\n",
    "  def get_private_variable(self):\n",
    "    # Rename getter method to reflect variable name\n",
    "    return self.__private_variable\n",
    "\n",
    "  def set_private_variable(self, value):\n",
    "    # Rename setter method to reflect variable name\n",
    "    self.__private_variable = value\n",
    "\n",
    "  def public_method(self):\n",
    "    # Print private variable using getter method\n",
    "    print(f\"The private variable is: {self.get_private_variable()}\")\n",
    "\n",
    "  def __private_method(self):\n",
    "    # Rename private method\n",
    "    print(\"This is a private method.\")\n",
    "\n",
    "obj = MyClass2()\n",
    "\n",
    "# Accessing private variable using getter\n",
    "print(f\"Private variable using getter: {obj.get_private_variable()}\")\n",
    "\n",
    "# Modifying private variable using setter\n",
    "obj.set_private_variable(20)\n",
    "\n",
    "# Accessing private variable after modification\n",
    "print(f\"Private variable after modification: {obj.get_private_variable()}\")\n",
    "\n",
    "# Calling public method\n",
    "obj.public_method()\n",
    "\n",
    "# Trying to access private method directly (not recommended)\n",
    "# obj.__private_method()  # This line caused the error\n",
    "\n",
    "# Accessing private method using public method\n",
    "obj.public_method()  # This will call the private method indirectly\n"
   ]
  },
  {
   "cell_type": "markdown",
   "metadata": {},
   "source": [
    "***Demonstrating Name Mangling to Access Private Members***"
   ]
  },
  {
   "cell_type": "code",
   "execution_count": 7,
   "metadata": {},
   "outputs": [
    {
     "name": "stdout",
     "output_type": "stream",
     "text": [
      "Private variable using name mangling: 10\n",
      "Private variable after modification: 20\n",
      "The private variable is: 20\n",
      "The private variable is: 20\n"
     ]
    }
   ],
   "source": [
    "class MyClass:\n",
    "  def __init__(self):\n",
    "    self.__private_variable = 10\n",
    "\n",
    "  def public_method(self):\n",
    "    print(f\"The private variable is: {self.__private_variable}\")\n",
    "\n",
    "  def __private_method(self):\n",
    "    print(\"This is a private method.\")\n",
    "\n",
    "obj = MyClass()\n",
    "\n",
    "# Accessing private variable using name mangling\n",
    "print(f\"Private variable using name mangling: {obj._MyClass__private_variable}\")\n",
    "\n",
    "# Modifying private variable using name mangling\n",
    "obj._MyClass__private_variable = 20\n",
    "\n",
    "# Accessing private variable after modification\n",
    "print(f\"Private variable after modification: {obj._MyClass__private_variable}\")\n",
    "\n",
    "# Calling public method\n",
    "obj.public_method()\n",
    "\n",
    "# Trying to access private method directly (not recommended)\n",
    "# obj.__private_method()  # This line caused the error\n",
    "\n",
    "# Accessing private method using public method\n",
    "obj.public_method()  # This will call the private method indirectly\n"
   ]
  },
  {
   "cell_type": "markdown",
   "metadata": {},
   "source": [
    "***Create an employee class by defining employee atributessuch as name and salary as an instance variable and implemening behaviour using work() and show() instance methods. Make salary as private***"
   ]
  },
  {
   "cell_type": "code",
   "execution_count": 8,
   "metadata": {},
   "outputs": [
    {
     "name": "stdout",
     "output_type": "stream",
     "text": [
      "Employee Name: ABC\n",
      "ABC is on work.\n",
      "Employee Details:\n",
      "Name: ABC\n",
      "Salary: 100000\n"
     ]
    }
   ],
   "source": [
    "class Employee:\n",
    "    def __init__(self, name, salary):\n",
    "        self.name = name\n",
    "        self.__salary = salary\n",
    "    def work(self):\n",
    "        print(f\"{self.name} is on work.\")\n",
    "    def show(self):\n",
    "        print(f\"Employee Details:\\nName: {self.name}\\nSalary: {self.__salary}\")\n",
    "employee1 = Employee(\"ABC\", 100000)\n",
    "print(\"Employee Name:\", employee1.name)\n",
    "employee1.work()\n",
    "employee1.show()"
   ]
  }
 ],
 "metadata": {
  "kernelspec": {
   "display_name": "Python 3",
   "language": "python",
   "name": "python3"
  },
  "language_info": {
   "codemirror_mode": {
    "name": "ipython",
    "version": 3
   },
   "file_extension": ".py",
   "mimetype": "text/x-python",
   "name": "python",
   "nbconvert_exporter": "python",
   "pygments_lexer": "ipython3",
   "version": "3.12.0"
  }
 },
 "nbformat": 4,
 "nbformat_minor": 2
}
