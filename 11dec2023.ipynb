{
 "cells": [
  {
   "cell_type": "code",
   "execution_count": 3,
   "metadata": {},
   "outputs": [
    {
     "name": "stdout",
     "output_type": "stream",
     "text": [
      "10\n",
      "This is a public method.\n"
     ]
    },
    {
     "ename": "AttributeError",
     "evalue": "'MyClass' object has no attribute '__private_variable'",
     "output_type": "error",
     "traceback": [
      "\u001b[1;31m---------------------------------------------------------------------------\u001b[0m",
      "\u001b[1;31mAttributeError\u001b[0m                            Traceback (most recent call last)",
      "\u001b[1;32md:\\091\\1BM21AI091_OOP\\11dec2023.ipynb Cell 1\u001b[0m line \u001b[0;36m1\n\u001b[0;32m     <a href='vscode-notebook-cell:/d%3A/091/1BM21AI091_OOP/11dec2023.ipynb#W0sZmlsZQ%3D%3D?line=13'>14</a>\u001b[0m \u001b[39mprint\u001b[39m(obj\u001b[39m.\u001b[39mpublic_variable)\n\u001b[0;32m     <a href='vscode-notebook-cell:/d%3A/091/1BM21AI091_OOP/11dec2023.ipynb#W0sZmlsZQ%3D%3D?line=14'>15</a>\u001b[0m obj\u001b[39m.\u001b[39mpublic_method()\n\u001b[1;32m---> <a href='vscode-notebook-cell:/d%3A/091/1BM21AI091_OOP/11dec2023.ipynb#W0sZmlsZQ%3D%3D?line=16'>17</a>\u001b[0m \u001b[39mprint\u001b[39m(obj\u001b[39m.\u001b[39;49m__private_variable)\n\u001b[0;32m     <a href='vscode-notebook-cell:/d%3A/091/1BM21AI091_OOP/11dec2023.ipynb#W0sZmlsZQ%3D%3D?line=17'>18</a>\u001b[0m obj\u001b[39m.\u001b[39m__private_method()\n",
      "\u001b[1;31mAttributeError\u001b[0m: 'MyClass' object has no attribute '__private_variable'"
     ]
    }
   ],
   "source": [
    "class MyClass:\n",
    "    def __init__(self):\n",
    "        self.public_variable = 10\n",
    "        self.__private_var1able = 20\n",
    "\n",
    "\n",
    "    def public_method(self):\n",
    "        print(\"This is a public method.\")\n",
    "\n",
    "    def __private_method(seif):\n",
    "        print(\"This 1s a private method.\")\n",
    "\n",
    "obj = MyClass()\n",
    "print(obj.public_variable)\n",
    "obj.public_method()\n",
    "\n",
    "print(obj.__private_variable)\n",
    "obj.__private_method()"
   ]
  },
  {
   "cell_type": "code",
   "execution_count": null,
   "metadata": {},
   "outputs": [],
   "source": []
  }
 ],
 "metadata": {
  "kernelspec": {
   "display_name": "Python 3",
   "language": "python",
   "name": "python3"
  },
  "language_info": {
   "codemirror_mode": {
    "name": "ipython",
    "version": 3
   },
   "file_extension": ".py",
   "mimetype": "text/x-python",
   "name": "python",
   "nbconvert_exporter": "python",
   "pygments_lexer": "ipython3",
   "version": "3.12.0"
  }
 },
 "nbformat": 4,
 "nbformat_minor": 2
}
