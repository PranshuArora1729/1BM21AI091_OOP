{
 "cells": [
  {
   "cell_type": "code",
   "execution_count": 35,
   "metadata": {},
   "outputs": [],
   "source": [
    "from abc import ABC, abstractmethod\n",
    "class computer(ABC):\n",
    "    @abstractmethod\n",
    "    def disp(self):\n",
    "        pass "
   ]
  },
  {
   "cell_type": "code",
   "execution_count": 34,
   "metadata": {},
   "outputs": [
    {
     "name": "stdout",
     "output_type": "stream",
     "text": [
      "welcome\n"
     ]
    }
   ],
   "source": [
    "class laptop(computer):\n",
    "    def disp(self):\n",
    "        print(\"welcome\")\n",
    "l1 = laptop()\n",
    "l1.disp()"
   ]
  },
  {
   "cell_type": "markdown",
   "metadata": {},
   "source": [
    "***QUESTION- Vehicle class with number of wheels(nowh), and start method***"
   ]
  },
  {
   "cell_type": "code",
   "execution_count": 31,
   "metadata": {},
   "outputs": [],
   "source": [
    "from abc import ABC, abstractmethod\n",
    "class vehicle(ABC):\n",
    "    @abstractmethod\n",
    "    def nowh(self):\n",
    "        pass\n",
    "    def start(self):\n",
    "        pass"
   ]
  },
  {
   "cell_type": "code",
   "execution_count": 32,
   "metadata": {},
   "outputs": [
    {
     "name": "stdout",
     "output_type": "stream",
     "text": [
      "2\n",
      "kickstart\n",
      "4\n",
      "selfstart\n",
      "6\n"
     ]
    }
   ],
   "source": [
    "class bike(vehicle):\n",
    "    def nowh(self):\n",
    "        print(\"2\")\n",
    "    def start(self):\n",
    "        print(\"kickstart\")\n",
    "\n",
    "class car(vehicle):\n",
    "    def nowh(self):\n",
    "        print(\"4\")\n",
    "    def start(self):\n",
    "        print(\"selfstart\")\n",
    "\n",
    "class bus(vehicle):\n",
    "    def nowh(self):\n",
    "        print(\"6\")\n",
    "\n",
    "b1 = bike()\n",
    "b1.nowh()\n",
    "b1.start()\n",
    "\n",
    "c1 = car()\n",
    "c1.nowh()\n",
    "c1.start()\n",
    "\n",
    "bu1 = bus()\n",
    "bu1.nowh()"
   ]
  },
  {
   "cell_type": "markdown",
   "metadata": {},
   "source": [
    "***QUESTION 3(b):-***\n",
    "    \n",
    "    Create a class called as CreditCard, make limit variable completely private to the outside of the class and balance should be accessible outside the class, but not modifiable, since we don't want external code to arbitrarily modify the credit card balance, To achieve this, make a get_balance() field public, however balance can only be modified via withdraw() and deposit() methods that have safeguard checks in place\n"
   ]
  },
  {
   "cell_type": "code",
   "execution_count": 41,
   "metadata": {},
   "outputs": [],
   "source": [
    "class CreditCard:\n",
    "    def __init__(self, limit):\n",
    "        self.__limit = limit\n",
    "        self.__balance = 0\n",
    "\n",
    "    def get_balance(self):\n",
    "        return self.__balance\n",
    "\n",
    "    def deposit(self, amount):\n",
    "            self.__balance += amount\n",
    "            print(f\"New balance: {self.__balance}\")\n",
    "\n",
    "    def withdraw(self, amount):\n",
    "        if amount <= self.__balance and amount <= self.__limit:\n",
    "            self.__balance -= amount\n",
    "            print(f\"New balance: {self.__balance}\")\n",
    "        elif amount > self.__balance:\n",
    "            print(\"Insufficient funds for withdrawal.\")\n",
    "        else:\n",
    "            print(\"Withdrawal amount exceeds the credit limit.\")\n"
   ]
  },
  {
   "cell_type": "code",
   "execution_count": 42,
   "metadata": {},
   "outputs": [
    {
     "name": "stdout",
     "output_type": "stream",
     "text": [
      "Initial balance: 0\n",
      "New balance: 500\n",
      "New balance: 300\n",
      "Insufficient funds for withdrawal.\n",
      "New balance: 600\n",
      "Final balance: 600\n"
     ]
    }
   ],
   "source": [
    "credit_card = CreditCard(limit=1000)\n",
    "print(\"Initial balance:\", credit_card.get_balance())\n",
    "\n",
    "credit_card.deposit(500)\n",
    "credit_card.withdraw(200)\n",
    "credit_card.withdraw(800)\n",
    "credit_card.deposit(300)\n",
    "\n",
    "print(\"Final balance:\", credit_card.get_balance())"
   ]
  },
  {
   "cell_type": "markdown",
   "metadata": {},
   "source": [
    "***Question 4:-***\n",
    "    \n",
    "    Import the ABC module to create the abstract base class.\n",
    "    Create the Car class that inherits the ABC class and defined an abstract method named mileage().\n",
    "    Inherit the base class from the three different subclasses and implemented the abstract method differently. Create the objects to call the abstract method"
   ]
  },
  {
   "cell_type": "code",
   "execution_count": 43,
   "metadata": {},
   "outputs": [],
   "source": [
    "from abc import ABC, abstractmethod\n",
    "\n",
    "class Car(ABC):\n",
    "    @abstractmethod\n",
    "    def mileage(self):\n",
    "        pass"
   ]
  },
  {
   "cell_type": "code",
   "execution_count": 46,
   "metadata": {},
   "outputs": [
    {
     "name": "stdout",
     "output_type": "stream",
     "text": [
      "The mileages are:\n",
      "Honda: 25 KM/L\n",
      "Tata: 18 KM/L\n",
      "Tesla: 70 KM/charge\n"
     ]
    }
   ],
   "source": [
    "class Honda(Car):\n",
    "    def mileage(self):\n",
    "        return \"Honda: 25 KM/L\"\n",
    "\n",
    "class Tata(Car):\n",
    "    def mileage(self):\n",
    "        return \"Tata: 18 KM/L\"\n",
    "\n",
    "class Tesla(Car):\n",
    "    def mileage(self):\n",
    "        return \"Tesla: 70 KM/charge\"\n",
    "\n",
    "Amaze = Honda()\n",
    "Nexon = Tata()\n",
    "Model_X = Tesla()\n",
    "\n",
    "print(\"The mileages are:\")\n",
    "print(Amaze.mileage())\n",
    "print(Nexon.mileage())\n",
    "print(Model_X.mileage())\n"
   ]
  },
  {
   "cell_type": "code",
   "execution_count": null,
   "metadata": {},
   "outputs": [],
   "source": []
  }
 ],
 "metadata": {
  "kernelspec": {
   "display_name": "Python 3",
   "language": "python",
   "name": "python3"
  },
  "language_info": {
   "codemirror_mode": {
    "name": "ipython",
    "version": 3
   },
   "file_extension": ".py",
   "mimetype": "text/x-python",
   "name": "python",
   "nbconvert_exporter": "python",
   "pygments_lexer": "ipython3",
   "version": "3.12.0"
  }
 },
 "nbformat": 4,
 "nbformat_minor": 2
}
