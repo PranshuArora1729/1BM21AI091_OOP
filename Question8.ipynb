{
 "cells": [
  {
   "cell_type": "code",
   "execution_count": 2,
   "metadata": {},
   "outputs": [
    {
     "name": "stdout",
     "output_type": "stream",
     "text": [
      "Thread 1: Generated 82\n",
      "Thread 2: Square: 6724\n",
      "Thread 1: Generated 31\n",
      "Thread 3: Cube: 29791\n",
      "Thread 1: Generated 98\n",
      "Thread 2: Square: 9604\n",
      "Thread 1: Generated 59\n",
      "Thread 3: Cube: 205379\n",
      "Thread 1: Generated 85\n",
      "Thread 3: Cube: 614125\n",
      "Thread 1: Generated 36\n",
      "Thread 2: Square: 1296\n",
      "Thread 1: Generated 80\n",
      "Thread 2: Square: 6400\n",
      "Thread 1: Generated 57\n",
      "Thread 3: Cube: 185193\n",
      "Thread 1: Generated 93\n",
      "Thread 3: Cube: 804357\n",
      "Thread 1: Generated 36\n",
      "Thread 2: Square: 1296\n",
      "Program stopped after 10 iterations.\n"
     ]
    }
   ],
   "source": [
    "import threading\n",
    "import random\n",
    "import time\n",
    "\n",
    "iterations = 10\n",
    "\n",
    "\n",
    "def generate_and_print():\n",
    "    for _ in range(iterations):\n",
    "        value = random.randint(1, 100)\n",
    "        print(f\"Thread 1: Generated {value}\")\n",
    "        if value % 2 == 0:\n",
    "            square_thread(value)\n",
    "        else:\n",
    "            cube_thread(value)\n",
    "        time.sleep(1)\n",
    "\n",
    "def square_thread(value):\n",
    "    print(f\"Thread 2: Square: {value ** 2}\")\n",
    "\n",
    "def cube_thread(value):\n",
    "    print(f\"Thread 3: Cube: {value ** 3}\")\n",
    "\n",
    "thread1 = threading.Thread(target=generate_and_print)\n",
    "thread1.start()\n",
    "thread1.join()\n",
    "print(\"Program stopped after\", iterations, \"iterations.\")"
   ]
  },
  {
   "cell_type": "code",
   "execution_count": null,
   "metadata": {},
   "outputs": [],
   "source": []
  }
 ],
 "metadata": {
  "kernelspec": {
   "display_name": "Python 3",
   "language": "python",
   "name": "python3"
  },
  "language_info": {
   "codemirror_mode": {
    "name": "ipython",
    "version": 3
   },
   "file_extension": ".py",
   "mimetype": "text/x-python",
   "name": "python",
   "nbconvert_exporter": "python",
   "pygments_lexer": "ipython3",
   "version": "3.12.0"
  }
 },
 "nbformat": 4,
 "nbformat_minor": 2
}
