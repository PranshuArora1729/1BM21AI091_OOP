{
 "cells": [
  {
   "cell_type": "code",
   "execution_count": 1,
   "metadata": {},
   "outputs": [
    {
     "name": "stdout",
     "output_type": "stream",
     "text": [
      "1 2 3 4 5 A B C D E \n",
      "Program terminated.\n"
     ]
    }
   ],
   "source": [
    "import threading\n",
    "import time\n",
    "\n",
    "semaphore = threading.Semaphore(1)\n",
    "\n",
    "def function_A():\n",
    "    for num in range(1, 6):\n",
    "        with semaphore:\n",
    "            print(num, end=\" \")\n",
    "            time.sleep(0.1)\n",
    "\n",
    "\n",
    "def function_B():\n",
    "    for letter in [\"A\", \"B\", \"C\", \"D\", \"E\"]:\n",
    "        with semaphore:\n",
    "            print(letter, end=\" \")\n",
    "            time.sleep(0.1)\n",
    "\n",
    "thread_A = threading.Thread(target=function_A)\n",
    "thread_B = threading.Thread(target=function_B)\n",
    "\n",
    "thread_A.start()\n",
    "thread_B.start()\n",
    "\n",
    "thread_A.join()\n",
    "thread_B.join()\n",
    "\n",
    "print(\"\\nProgram terminated.\")"
   ]
  },
  {
   "cell_type": "code",
   "execution_count": null,
   "metadata": {},
   "outputs": [],
   "source": []
  }
 ],
 "metadata": {
  "kernelspec": {
   "display_name": "Python 3",
   "language": "python",
   "name": "python3"
  },
  "language_info": {
   "codemirror_mode": {
    "name": "ipython",
    "version": 3
   },
   "file_extension": ".py",
   "mimetype": "text/x-python",
   "name": "python",
   "nbconvert_exporter": "python",
   "pygments_lexer": "ipython3",
   "version": "3.12.0"
  }
 },
 "nbformat": 4,
 "nbformat_minor": 2
}
