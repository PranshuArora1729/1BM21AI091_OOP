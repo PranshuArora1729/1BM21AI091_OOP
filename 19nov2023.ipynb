{
 "cells": [
  {
   "cell_type": "code",
   "execution_count": 1,
   "metadata": {},
   "outputs": [
    {
     "name": "stdout",
     "output_type": "stream",
     "text": [
      "the list is:\n",
      "[1, 2, 3, 4]\n",
      "4\n"
     ]
    }
   ],
   "source": [
    "def largestele(list):\n",
    "\n",
    " print(\"the list is:\")\n",
    " print(list)\n",
    " large=list[0]\n",
    " for element in list:\n",
    "   if element>large:\n",
    "      large=element\n",
    " return large\n",
    "list=[1,2,3,4]\n",
    "x=largestele(list)\n",
    "print(x)\n"
   ]
  },
  {
   "cell_type": "code",
   "execution_count": 2,
   "metadata": {},
   "outputs": [
    {
     "name": "stdout",
     "output_type": "stream",
     "text": [
      "41.569219381653056\n"
     ]
    }
   ],
   "source": [
    "def hex_area(s):\n",
    "  return (3**1.5)*0.5*s**2\n",
    "result=hex_area(4)\n",
    "print(result)"
   ]
  },
  {
   "cell_type": "code",
   "execution_count": 7,
   "metadata": {},
   "outputs": [
    {
     "name": "stdout",
     "output_type": "stream",
     "text": [
      "pla@gmail.com is a valid email address.\n"
     ]
    }
   ],
   "source": [
    "def is_valid_email(email):\n",
    "    parts = email.split('@')\n",
    "    if len(parts) == 2:\n",
    "        local_part, domain_part = parts\n",
    "        if local_part and domain_part:\n",
    "            if '.' in domain_part:\n",
    "                return True\n",
    "\n",
    "    return False\n",
    "\n",
    "\n",
    "email_address = input (\"Enter mail :\")\n",
    "if is_valid_email(email_address):\n",
    "    print(f\"{email_address} is a valid email address.\")\n",
    "else:\n",
    "    print(f\"{email_address} is not a valid email address.\")"
   ]
  },
  {
   "cell_type": "code",
   "execution_count": 6,
   "metadata": {},
   "outputs": [
    {
     "name": "stdout",
     "output_type": "stream",
     "text": [
      "Encrypted: tzhuw|\n",
      "Decrypted: qwerty\n"
     ]
    },
    {
     "ename": "ValueError",
     "evalue": "invalid literal for int() with base 10: ''",
     "output_type": "error",
     "traceback": [
      "\u001b[1;31m---------------------------------------------------------------------------\u001b[0m",
      "\u001b[1;31mValueError\u001b[0m                                Traceback (most recent call last)",
      "\u001b[1;32mc:\\Users\\Admin\\Desktop\\1BM21AI091_OOPLAB-1\\19nov2023.ipynb Cell 4\u001b[0m line \u001b[0;36m2\n\u001b[0;32m     <a href='vscode-notebook-cell:/c%3A/Users/Admin/Desktop/1BM21AI091_OOPLAB-1/19nov2023.ipynb#W3sZmlsZQ%3D%3D?line=18'>19</a>\u001b[0m     \u001b[39mreturn\u001b[39;00m \u001b[39m'\u001b[39m\u001b[39m'\u001b[39m\u001b[39m.\u001b[39mjoin(\u001b[39mchr\u001b[39m(value) \u001b[39mfor\u001b[39;00m value \u001b[39min\u001b[39;00m ascii_list)\n\u001b[0;32m     <a href='vscode-notebook-cell:/c%3A/Users/Admin/Desktop/1BM21AI091_OOPLAB-1/19nov2023.ipynb#W3sZmlsZQ%3D%3D?line=20'>21</a>\u001b[0m \u001b[39mwhile\u001b[39;00m(\u001b[39m1\u001b[39m):\n\u001b[1;32m---> <a href='vscode-notebook-cell:/c%3A/Users/Admin/Desktop/1BM21AI091_OOPLAB-1/19nov2023.ipynb#W3sZmlsZQ%3D%3D?line=21'>22</a>\u001b[0m   choice \u001b[39m=\u001b[39m \u001b[39mint\u001b[39;49m(\u001b[39minput\u001b[39;49m(\u001b[39m\"\u001b[39;49m\u001b[39mEnter 1 for encryption or 2 for decryption: \u001b[39;49m\u001b[39m\"\u001b[39;49m))\n\u001b[0;32m     <a href='vscode-notebook-cell:/c%3A/Users/Admin/Desktop/1BM21AI091_OOPLAB-1/19nov2023.ipynb#W3sZmlsZQ%3D%3D?line=22'>23</a>\u001b[0m   user_input \u001b[39m=\u001b[39m \u001b[39minput\u001b[39m(\u001b[39m\"\u001b[39m\u001b[39mEnter the string: \u001b[39m\u001b[39m\"\u001b[39m)\n\u001b[0;32m     <a href='vscode-notebook-cell:/c%3A/Users/Admin/Desktop/1BM21AI091_OOPLAB-1/19nov2023.ipynb#W3sZmlsZQ%3D%3D?line=23'>24</a>\u001b[0m   \u001b[39mif\u001b[39;00m choice \u001b[39m==\u001b[39m \u001b[39m1\u001b[39m:\n",
      "\u001b[1;31mValueError\u001b[0m: invalid literal for int() with base 10: ''"
     ]
    }
   ],
   "source": [
    "def encrypt(input_str):\n",
    "    x = 3\n",
    "    lst = ascii_values(input_str)\n",
    "    encrypted_lst = [i + x for i in lst]\n",
    "    enc = string_from_ascii_values(encrypted_lst)\n",
    "    return enc\n",
    "\n",
    "def decrypt(input_str):\n",
    "    x = -3\n",
    "    lst = ascii_values(input_str)\n",
    "    decrypted_lst = [i + x for i in lst]\n",
    "    dec = string_from_ascii_values(decrypted_lst)\n",
    "    return dec\n",
    "\n",
    "def ascii_values(input_string):\n",
    "    return [ord(char) for char in input_string]\n",
    "\n",
    "def string_from_ascii_values(ascii_list):\n",
    "    return ''.join(chr(value) for value in ascii_list)\n",
    "\n",
    "while(1):\n",
    "  choice = int(input(\"Enter 1 for encryption or 2 for decryption: \"))\n",
    "  user_input = input(\"Enter the string: \")\n",
    "  if choice == 1:\n",
    "    result = encrypt(user_input)\n",
    "    print(\"Encrypted:\", result)\n",
    "  elif choice == 2:\n",
    "    result = decrypt(user_input)\n",
    "    print(\"Decrypted:\", result)\n",
    "  else:\n",
    "    print(\"Invalid choice. Please enter 1 for encryption or 2 for decryption.\")"
   ]
  },
  {
   "cell_type": "code",
   "execution_count": 5,
   "metadata": {},
   "outputs": [
    {
     "name": "stdout",
     "output_type": "stream",
     "text": [
      "All palindromic substrings: ['p', 'l', 'm', 'q', 'a', 'z']\n"
     ]
    }
   ],
   "source": [
    "def is_palindrome(s):\n",
    "    return s == s[::-1]\n",
    "\n",
    "def all_palindromes(input_str):\n",
    "    palindromes = []\n",
    "    n = len(input_str)\n",
    "    for i in range(n):\n",
    "        for j in range(i + 1, n + 1):\n",
    "            substring = input_str[i:j]\n",
    "            if is_palindrome(substring):\n",
    "                palindromes.append(substring)\n",
    "    return palindromes\n",
    "\n",
    "\n",
    "user_input = input(\"Enter a string: \")\n",
    "\n",
    "\n",
    "result = all_palindromes(user_input)\n",
    "print(\"All palindromic substrings:\", result)"
   ]
  },
  {
   "cell_type": "code",
   "execution_count": null,
   "metadata": {},
   "outputs": [],
   "source": []
  }
 ],
 "metadata": {
  "kernelspec": {
   "display_name": "Python 3",
   "language": "python",
   "name": "python3"
  },
  "language_info": {
   "codemirror_mode": {
    "name": "ipython",
    "version": 3
   },
   "file_extension": ".py",
   "mimetype": "text/x-python",
   "name": "python",
   "nbconvert_exporter": "python",
   "pygments_lexer": "ipython3",
   "version": "3.12.0"
  }
 },
 "nbformat": 4,
 "nbformat_minor": 2
}
