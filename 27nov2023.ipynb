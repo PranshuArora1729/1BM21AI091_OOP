{
 "cells": [
  {
   "cell_type": "markdown",
   "metadata": {},
   "source": [
    "*Types of Methods or Functions*\n",
    "\n",
    "Three types of methods:-\n",
    "        \n",
    "        Instance\n",
    "        Static\n",
    "        Class"
   ]
  },
  {
   "cell_type": "code",
   "execution_count": 7,
   "metadata": {},
   "outputs": [],
   "source": [
    "\n",
    "class BMS:\n",
    "    def display(self):\n",
    "        self.college='BMSCE'\n",
    "        print(self.collagename)\n",
    "\n",
    "def add (n1,n2):\n",
    "    print(n1+n2)\n"
   ]
  },
  {
   "cell_type": "code",
   "execution_count": 8,
   "metadata": {},
   "outputs": [
    {
     "data": {
      "text/plain": [
       "<bound method BMS.display of <__main__.BMS object at 0x000001405CAF5640>>"
      ]
     },
     "execution_count": 8,
     "metadata": {},
     "output_type": "execute_result"
    }
   ],
   "source": [
    "b1 = BMS()\n",
    "b1.display"
   ]
  },
  {
   "cell_type": "markdown",
   "metadata": {},
   "source": [
    "***Question 1 :-***\n",
    "*Write a program having:-*\n",
    "\n",
    "    Class called Calculator\n",
    "    Constructor with one parameter called version\n",
    "    A method which displays version\n",
    "    A static method which returns addition of 2 numbers\n",
    "    Display add functions inside the main function also create 2 objects having different version\n"
   ]
  },
  {
   "cell_type": "code",
   "execution_count": 12,
   "metadata": {},
   "outputs": [
    {
     "name": "stdout",
     "output_type": "stream",
     "text": [
      "Calculator Version: 1.0\n",
      "Calculator Version: 2.0\n",
      "Addition of 5 and 7 is: 12\n"
     ]
    }
   ],
   "source": [
    "class Calculator:\n",
    "    def __init__(self, version):\n",
    "        self.version = version\n",
    "    \n",
    "    def display_version(self):\n",
    "        print(f\"Calculator Version: {self.version}\")\n",
    "    \n",
    "    @staticmethod\n",
    "    def add_numbers(num1, num2):\n",
    "        return num1 + num2\n",
    "\n",
    "def main():\n",
    "    calculator1 = Calculator(version=\"1.0\")\n",
    "    calculator2 = Calculator(version=\"2.0\")\n",
    "\n",
    "    calculator1.display_version()\n",
    "    calculator2.display_version()\n",
    "\n",
    "    num1 = 5\n",
    "    num2 = 7\n",
    "    result = Calculator.add_numbers(num1, num2)\n",
    "\n",
    "    print(f\"Addition of {num1} and {num2} is: {result}\")\n",
    "\n",
    "if __name__ == \"__main__\":\n",
    "    main()"
   ]
  },
  {
   "cell_type": "markdown",
   "metadata": {},
   "source": [
    "***Question 2 :-***\n",
    "\n",
    "    Write a python program to count number of instances created of the class student"
   ]
  },
  {
   "cell_type": "code",
   "execution_count": 15,
   "metadata": {},
   "outputs": [
    {
     "name": "stdout",
     "output_type": "stream",
     "text": [
      "Number of instances created: 3\n"
     ]
    }
   ],
   "source": [
    "class Student:\n",
    "    instance_count = 0\n",
    "\n",
    "    def __init__(self, name, age):\n",
    "        self.name = name\n",
    "        self.age = age\n",
    "\n",
    "        Student.instance_count += 1\n",
    "\n",
    "def main():\n",
    "    student1 = Student(name=\"Alice\", age=20)\n",
    "    student2 = Student(name=\"Bob\", age=22)\n",
    "    student3 = Student(name=\"Charlie\", age=21)\n",
    "\n",
    "    print(f\"Number of instances created: {Student.instance_count}\")\n",
    "\n",
    "if __name__ == \"__main__\":\n",
    "    main()"
   ]
  },
  {
   "cell_type": "markdown",
   "metadata": {},
   "source": [
    "***Question 3 :-***\n",
    "\n",
    "    Explore lamba fuction in python\n",
    "    Write a lambda function to calculate area of a circle"
   ]
  },
  {
   "cell_type": "code",
   "execution_count": 16,
   "metadata": {},
   "outputs": [
    {
     "name": "stdout",
     "output_type": "stream",
     "text": [
      "The area of a circle with radius 5 is: 78.53975\n"
     ]
    }
   ],
   "source": [
    "# Lambda function to calculate the area of a circle\n",
    "calculate_circle_area = lambda radius: 3.14159 * radius ** 2\n",
    "\n",
    "# Example usage\n",
    "radius = 5\n",
    "area = calculate_circle_area(radius)\n",
    "print(f\"The area of a circle with radius {radius} is: {area}\")"
   ]
  },
  {
   "cell_type": "markdown",
   "metadata": {},
   "source": [
    "***Question 4 :-***\n",
    "    \n",
    "    Perform addition of two complex numbers using class COMPLEX. COMPLEX has two class variables real part and img_part. Constructors assigns values for the respective variables. Create three objects C1, C2 and C3. Where is the result of adding C1 and C2."
   ]
  },
  {
   "cell_type": "code",
   "execution_count": 17,
   "metadata": {},
   "outputs": [
    {
     "name": "stdout",
     "output_type": "stream",
     "text": [
      "Result of adding C1 and C2:\n",
      "Real Part: 5, Imaginary Part: -1\n"
     ]
    }
   ],
   "source": [
    "class COMPLEX:\n",
    "    real_part = 0\n",
    "    img_part = 0\n",
    "\n",
    "    def __init__(self, real, imag):\n",
    "        self.real_part = real\n",
    "        self.img_part = imag\n",
    "\n",
    "    def add_complex(self, other):\n",
    "        result = COMPLEX(0, 0)\n",
    "        result.real_part = self.real_part + other.real_part\n",
    "        result.img_part = self.img_part + other.img_part\n",
    "        return result\n",
    "\n",
    "def main():\n",
    "    C1 = COMPLEX(3, 4)\n",
    "    C2 = COMPLEX(2, -5)\n",
    "    C3 = COMPLEX(0, 0)\n",
    "\n",
    "    C3 = C1.add_complex(C2)\n",
    "\n",
    "    print(\"Result of adding C1 and C2:\")\n",
    "    print(f\"Real Part: {C3.real_part}, Imaginary Part: {C3.img_part}\")\n",
    "\n",
    "if __name__ == \"__main__\":\n",
    "    main()\n"
   ]
  }
 ],
 "metadata": {
  "kernelspec": {
   "display_name": "base",
   "language": "python",
   "name": "python3"
  },
  "language_info": {
   "codemirror_mode": {
    "name": "ipython",
    "version": 3
   },
   "file_extension": ".py",
   "mimetype": "text/x-python",
   "name": "python",
   "nbconvert_exporter": "python",
   "pygments_lexer": "ipython3",
   "version": "3.12.0"
  }
 },
 "nbformat": 4,
 "nbformat_minor": 2
}
