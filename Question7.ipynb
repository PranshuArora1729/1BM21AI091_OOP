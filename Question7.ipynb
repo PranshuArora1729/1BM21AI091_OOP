{
 "cells": [
  {
   "cell_type": "code",
   "execution_count": 6,
   "metadata": {},
   "outputs": [
    {
     "ename": "SystemExit",
     "evalue": "",
     "output_type": "error",
     "traceback": [
      "An exception has occurred, use %tb to see the full traceback.\n",
      "\u001b[1;31mSystemExit\u001b[0m\n"
     ]
    }
   ],
   "source": [
    "import pygame\n",
    "import sys\n",
    "\n",
    "pygame.init()\n",
    "\n",
    "width, height = 400, 400\n",
    "screen = pygame.display.set_mode((width, height))\n",
    "pygame.display.set_caption(\"Shapes Drawing\")\n",
    "\n",
    "blue, green, black = (0, 0, 255), (0, 255, 0), (0, 0, 0)\n",
    "\n",
    "while True:\n",
    "    for e in pygame.event.get():\n",
    "        if e.type == pygame.QUIT:\n",
    "            pygame.quit(), sys.exit()\n",
    "\n",
    "    screen.fill((255, 255, 255))\n",
    "    pygame.draw.polygon(\n",
    "        screen, blue, [(146, 0), (291, 106), (236, 277), (56, 277), (0, 106)]\n",
    "    )\n",
    "    pygame.draw.line(screen, green, (60, 300), (120, 300), 4)\n",
    "    pygame.draw.circle(screen, green, (300, 50), 20)\n",
    "    pygame.draw.ellipse(screen, black, (300, 250, 40, 80), 1)\n",
    "    pygame.draw.rect(screen, black, (150, 300, 100, 50))\n",
    "    pygame.display.flip()\n",
    "    pygame.time.Clock().tick(30)"
   ]
  },
  {
   "cell_type": "code",
   "execution_count": null,
   "metadata": {},
   "outputs": [],
   "source": []
  }
 ],
 "metadata": {
  "kernelspec": {
   "display_name": "Python 3",
   "language": "python",
   "name": "python3"
  },
  "language_info": {
   "codemirror_mode": {
    "name": "ipython",
    "version": 3
   },
   "file_extension": ".py",
   "mimetype": "text/x-python",
   "name": "python",
   "nbconvert_exporter": "python",
   "pygments_lexer": "ipython3",
   "version": "3.12.0"
  }
 },
 "nbformat": 4,
 "nbformat_minor": 2
}
