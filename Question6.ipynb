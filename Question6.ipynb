{
 "cells": [
  {
   "cell_type": "markdown",
   "metadata": {},
   "source": [
    "***a)Create a base class called Father and derived class called Son which extends the base class. In Father class, implement a constructor which takes the age and throws the user defined exception WrongAge() when the input age&lt;0. In Son class, implement a constructor that checks both father and son’s age and throws an using defined exception AgeInvalid( ) if son’s age is &gt;=father’s age.***"
   ]
  },
  {
   "cell_type": "code",
   "execution_count": 2,
   "metadata": {},
   "outputs": [
    {
     "name": "stdout",
     "output_type": "stream",
     "text": [
      "Error: Son's age should be less than Father's age\n"
     ]
    }
   ],
   "source": [
    "class WrongAge(Exception):\n",
    "    pass\n",
<<<<<<< HEAD
    "\n",
    "class AgeInvalid(Exception):\n",
    "    pass\n",
    "\n",
=======
    "class AgeInvalid(Exception):\n",
    "    pass\n",
>>>>>>> 30e4dc6665223f92771fcc69beafc9146c644dc3
    "class Father:\n",
    "    def __init__(self, age):\n",
    "        if age < 0:\n",
    "            raise WrongAge(\"Age cannot be negative\")\n",
    "        self.age = age\n",
<<<<<<< HEAD
    "\n",
=======
>>>>>>> 30e4dc6665223f92771fcc69beafc9146c644dc3
    "class Son(Father):\n",
    "    def __init__(self, father_age, son_age):\n",
    "        super().__init__(father_age)\n",
    "        if son_age >= father_age:\n",
    "            raise AgeInvalid(\"Son's age should be less than Father's age\")\n",
    "        self.son_age = son_age\n",
    "\n",
    "try:\n",
    "    father_age = int(input(\"Enter Father's age: \"))\n",
    "    son_age = int(input(\"Enter Son's age: \"))\n",
    "    son_instance = Son(father_age, son_age)\n",
    "    print(\"Father's age:\", father_age)\n",
    "    print(\"Son's age:\", son_age)\n",
    "except WrongAge as wa:\n",
    "    print(f\"Error: {wa}\")\n",
    "except AgeInvalid as ai:\n",
    "    print(f\"Error: {ai}\")"
   ]
  },
  {
   "cell_type": "markdown",
   "metadata": {},
   "source": [
    "***b)***"
   ]
  },
  {
   "cell_type": "code",
   "execution_count": 4,
   "metadata": {},
   "outputs": [
    {
     "name": "stdout",
     "output_type": "stream",
     "text": [
      "Error: Invalid input: Must consist of 3 elements\n",
      "Result: 2.0\n",
      "Result: 6.0\n",
      "Error: Invalid input: Must consist of 3 elements\n"
     ]
    }
   ],
   "source": [
    "class FormulaError(Exception):\n",
    "    pass\n",
    "\n",
    "\n",
    "def calculate(formula):\n",
    "    try:\n",
    "        elements = formula.split()\n",
    "        if len(elements) != 3:\n",
    "            raise FormulaError(\"Invalid input: Must consist of 3 elements\")\n",
    "\n",
    "        num1 = float(elements[0])\n",
    "        operator = elements[1]\n",
    "        num2 = float(elements[2])\n",
    "\n",
    "        if operator not in [\"+\", \"-\"]:\n",
    "            raise FormulaError(\"Invalid operator: Use only '+' or '-'\")\n",
    "\n",
    "        if operator == \"+\":\n",
    "            result = num1 + num2\n",
    "        else:\n",
    "            result = num1 - num2\n",
    "\n",
    "        print(\"Result:\", result)\n",
    "\n",
    "    except ValueError:\n",
    "        raise FormulaError(\"Invalid input: Unable to convert to float\")\n",
    "\n",
    "\n",
    "# Interactive calculator\n",
    "while True:\n",
    "    user_input = input(\"Enter a formula (or 'quit' to exit): \").strip()\n",
    "\n",
    "    if user_input.lower() == \"quit\":\n",
    "        break\n",
    "\n",
    "    try:\n",
    "        calculate(user_input)\n",
    "    except FormulaError as fe:\n",
    "        print(f\"Error: {fe}\")"
   ]
  },
  {
   "cell_type": "code",
   "execution_count": null,
   "metadata": {},
   "outputs": [],
   "source": []
  }
 ],
 "metadata": {
  "kernelspec": {
   "display_name": "Python 3",
   "language": "python",
   "name": "python3"
  },
  "language_info": {
   "codemirror_mode": {
    "name": "ipython",
    "version": 3
   },
   "file_extension": ".py",
   "mimetype": "text/x-python",
   "name": "python",
   "nbconvert_exporter": "python",
   "pygments_lexer": "ipython3",
   "version": "3.12.0"
  }
 },
 "nbformat": 4,
 "nbformat_minor": 2
}
