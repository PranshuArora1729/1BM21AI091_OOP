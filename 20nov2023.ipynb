{
 "cells": [
  {
   "cell_type": "markdown",
   "metadata": {},
   "source": [
    "***Question 6***\n"
   ]
  },
  {
   "cell_type": "markdown",
   "metadata": {},
   "source": [
    "*Write a Python Program to create two empty classes, Student and Marks. Now Create some instances and check whether they are instances of the said classes or not. Also, check whether the said classes are subclasses of the built-in object class or not.*"
   ]
  },
  {
   "cell_type": "code",
   "execution_count": 2,
   "metadata": {},
   "outputs": [
    {
     "name": "stdout",
     "output_type": "stream",
     "text": [
      "True\n",
      "False\n",
      "True\n",
      "False\n",
      "\n",
      "Checking whether the said classes are subclasses of the built-in object class or not.\n",
      "True\n",
      "True\n"
     ]
    }
   ],
   "source": [
    "class Students:\n",
    "    pass \n",
    "class Marks:\n",
    "    pass \n",
    "student1 = Students()\n",
    "marks1 = Marks()\n",
    "print(isinstance(student1, Students))\n",
    "print(isinstance(marks1, Students))\n",
    "print(isinstance(marks1, Marks)) \n",
    "print(isinstance(student1, Marks))\n",
    "print(\"\\nChecking whether the said classes are subclasses of the built-in object class or not.\")\n",
    "print(issubclass(Students, object))\n",
    "print(issubclass(Marks, object)) "
   ]
  },
  {
   "cell_type": "markdown",
   "metadata": {},
   "source": [
    "***Question 7***"
   ]
  },
  {
   "cell_type": "markdown",
   "metadata": {},
   "source": [
    "*Create a python class called birthdayboy that takes 2 variable:*\n",
    "    \n",
    "    a. A string name\n",
    "    b. An integer age\n",
    "*Donot forget init function....!!!*\n",
    "*Within birthdayboy. Create a method called birthday that increases the value of age by 1.*\n",
    "\n",
    "*Once this class has been created, create an instance of the class then call birthday methods on that to increase its age and print the same.*"
   ]
  },
  {
   "cell_type": "code",
   "execution_count": 7,
   "metadata": {},
   "outputs": [
    {
     "name": "stdout",
     "output_type": "stream",
     "text": [
      "Happy Birthday, Thanos! You are now 2345 years old.\n"
     ]
    }
   ],
   "source": [
    "class Birthdays:\n",
    "    def __init__(self, name, age):\n",
    "        self.name = name\n",
    "        self.age = age\n",
    "\n",
    "    def celebrate_birthday(self):\n",
    "        self.age += 1\n",
    "        print(f\"Happy Birthday, {self.name}! You are now {self.age} years old.\")\n",
    "\n",
    "\n",
    "person = Birthdays(name=\"Thanos\", age=2343)\n",
    "\n",
    "\n",
    "person.celebrate_birthday()"
   ]
  },
  {
   "cell_type": "markdown",
   "metadata": {},
   "source": [
    "***Question 8***"
   ]
  },
  {
   "cell_type": "markdown",
   "metadata": {},
   "source": [
    "*Define a class called Songs, it will show the lyrics of a song.*\n",
    "*Its_init__() method should have two arguments:selfanf lyrics.lyricsis a list. Inside your class create a method called sing_me_a_songthat prints each element of lyricson his own line.*\n",
    "*Define a varible:*\n",
    "\n",
    "    happy_bday = Song ([\"May god bless you, \",\n",
    "                        \"Have a sunshine on you,\", \n",
    "                        \"Happy Birthday to you !\"])\n",
    "\n",
    "*Call the sing_me_song mehod on this variable.*"
   ]
  },
  {
   "cell_type": "code",
   "execution_count": 11,
   "metadata": {},
   "outputs": [
    {
     "name": "stdout",
     "output_type": "stream",
     "text": [
      "May god bless you, \n",
      "Chal beta ab tu pitega\n",
      "Happy Birthday to you!!\n"
     ]
    }
   ],
   "source": [
    "class Songs:\n",
    "\n",
    "    def __init__(self, lyrics):\n",
    "        self.lyrics = lyrics\n",
    "\n",
    "    def sing_me_a_song(self):\n",
    "        for elem in self.lyrics:\n",
    "            print (elem)\n",
    "\n",
    "\n",
    "happy_bday = Songs([\"May god bless you, \",\n",
    "                   \"Chal beta ab tu pitega\",\n",
    "                   \"Happy Birthday to you!!\"])\n",
    "\n",
    "happy_bday.sing_me_a_song()"
   ]
  }
 ],
 "metadata": {
  "kernelspec": {
   "display_name": "Python 3",
   "language": "python",
   "name": "python3"
  },
  "language_info": {
   "codemirror_mode": {
    "name": "ipython",
    "version": 3
   },
   "file_extension": ".py",
   "mimetype": "text/x-python",
   "name": "python",
   "nbconvert_exporter": "python",
   "pygments_lexer": "ipython3",
   "version": "3.12.0"
  }
 },
 "nbformat": 4,
 "nbformat_minor": 2
}
