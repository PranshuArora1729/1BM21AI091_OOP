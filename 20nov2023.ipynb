{
 "cells": [
  {
   "cell_type": "markdown",
   "metadata": {},
   "source": [
    "***Question 6***\n"
   ]
  },
  {
   "cell_type": "markdown",
   "metadata": {},
   "source": [
    "*Write a Python Program to create two empty classes, Student and Marks. Now Create some instances and check whether they are instances of the said classes or not. Also, check whether the said classes are subclasses of the built-in object class or not.*"
   ]
  },
  {
   "cell_type": "code",
   "execution_count": 2,
   "metadata": {},
   "outputs": [
    {
     "name": "stdout",
     "output_type": "stream",
     "text": [
      "True\n",
      "False\n",
      "True\n",
      "False\n",
      "\n",
      "Checking whether the said classes are subclasses of the built-in object class or not.\n",
      "True\n",
      "True\n"
     ]
    }
   ],
   "source": [
    "class Students:\n",
    "    pass \n",
    "class Marks:\n",
    "    pass \n",
    "student1 = Students()\n",
    "marks1 = Marks()\n",
    "print(isinstance(student1, Students))\n",
    "print(isinstance(marks1, Students))\n",
    "print(isinstance(marks1, Marks)) \n",
    "print(isinstance(student1, Marks))\n",
    "print(\"\\nChecking whether the said classes are subclasses of the built-in object class or not.\")\n",
    "print(issubclass(Students, object))\n",
    "print(issubclass(Marks, object)) "
   ]
  },
  {
   "cell_type": "markdown",
   "metadata": {},
   "source": [
    "***Question 7***"
   ]
  },
  {
   "cell_type": "markdown",
   "metadata": {},
   "source": [
    "*Create a python class called birthdayboy that takes 2 variable:*\n",
    "    \n",
    "    a. A string name\n",
    "    b. An integer age\n",
    "*Donot forget init function....!!!*\n",
    "*Within birthdayboy. Create a method called birthday that increases the value of age by 1.*\n",
    "\n",
    "*Once this class has been created, create an instance of the class then call birthday methods on that to increase its age and print the same.*"
   ]
  },
  {
   "cell_type": "code",
   "execution_count": 7,
   "metadata": {},
   "outputs": [
    {
     "name": "stdout",
     "output_type": "stream",
     "text": [
      "Happy Birthday, Thanos! You are now 2345 years old.\n"
     ]
    }
   ],
   "source": [
    "class Birthdays:\n",
    "    def __init__(self, name, age):\n",
    "        self.name = name\n",
    "        self.age = age\n",
    "\n",
    "    def celebrate_birthday(self):\n",
    "        self.age += 1\n",
    "        print(f\"Happy Birthday, {self.name}! You are now {self.age} years old.\")\n",
    "\n",
    "\n",
    "person = Birthdays(name=\"Thanos\", age=2343)\n",
    "\n",
    "\n",
    "person.celebrate_birthday()"
   ]
  },
  {
   "cell_type": "markdown",
   "metadata": {},
   "source": [
    "***Question 8***"
   ]
  },
  {
   "cell_type": "markdown",
   "metadata": {},
   "source": [
    "*Define a class called Songs, it will show the lyrics of a song.*\n",
    "*Its_init__() method should have two arguments:selfanf lyrics.lyricsis a list. Inside your class create a method called sing_me_a_songthat prints each element of lyricson his own line.*\n",
    "*Define a varible:*\n",
    "\n",
    "    happy_bday = Song ([\"May god bless you, \",\n",
    "                        \"Have a sunshine on you,\", \n",
    "                        \"Happy Birthday to you !\"])\n",
    "\n",
    "*Call the sing_me_song mehod on this variable.*"
   ]
  },
  {
   "cell_type": "code",
   "execution_count": 11,
   "metadata": {},
   "outputs": [
    {
     "name": "stdout",
     "output_type": "stream",
     "text": [
      "May god bless you, \n",
      "Chal beta ab tu pitega\n",
      "Happy Birthday to you!!\n"
     ]
    }
   ],
   "source": [
    "class Songs:\n",
    "\n",
    "    def __init__(self, lyrics):\n",
    "        self.lyrics = lyrics\n",
    "\n",
    "    def sing_me_a_song(self):\n",
    "        for elem in self.lyrics:\n",
    "            print (elem)\n",
    "\n",
    "\n",
    "happy_bday = Songs([\"May god bless you, \",\n",
    "                   \"Chal beta ab tu pitega\",\n",
    "                   \"Happy Birthday to you!!\"])\n",
    "\n",
    "happy_bday.sing_me_a_song()"
   ]
  },
  {
   "cell_type": "markdown",
   "metadata": {},
   "source": [
    "***Question 9***"
   ]
  },
  {
   "cell_type": "markdown",
   "metadata": {},
   "source": [
    "*Class Dog*\n",
    "\n",
    "    Attributes:-\n",
    "        Name\n",
    "        Size\n",
    "        Breed Default: \"Unknown\"\n",
    "        Date Of Birth in DD/MM/YYYY format Default: \"Unknown\"\n",
    "    \n",
    "    Methods:-\n",
    "        Bark\n",
    "            This should get the dog to bark (print out the word 'woof!')\n",
    "\n",
    "        get_name\n",
    "            This should return the dog's name\n",
    "\n",
    "        set_name\n",
    "            This should allow the user to set an alphabetical name between 2 and 30 characters.\n",
    "            Convert the name to lille case before setting\n",
    "\n",
    "        dog_years\n",
    "            This should calculate a dog's age in dog years (use 1 year = 7 dog years)"
   ]
  },
  {
   "cell_type": "code",
   "execution_count": 16,
   "metadata": {},
   "outputs": [
    {
     "name": "stdout",
     "output_type": "stream",
     "text": [
      "Initial Dog Details:\n",
      "Name: Kutta\n",
      "Size: Double XL\n",
      "Breed: Unknown\n",
      "Date of Birth: Unknown\n",
      "Woof!\n",
      "\n",
      "Updated Dog Details:\n",
      "Name: chhota kutta\n",
      "Size: XL\n",
      "Breed: Human\n",
      "Date of Birth: 14/11/2023\n",
      "Woof!\n",
      "\n",
      "Dog's Age in Dog Years: 0\n"
     ]
    }
   ],
   "source": [
    "class Dog:\n",
    "    def __init__(self, name, size, breed=\"Unknown\", dob=\"Unknown\"):\n",
    "        self.name = name\n",
    "        self.size = size\n",
    "        self.breed = breed\n",
    "        self.dob = dob\n",
    "\n",
    "    def bark(self):\n",
    "        print('Woof!')\n",
    "\n",
    "    def get_name(self):\n",
    "        return self.name\n",
    "\n",
    "    def set_name(self, new_name):\n",
    "        self.name = new_name.lower()\n",
    "\n",
    "    def set_size(self, new_size):\n",
    "        self.size = new_size\n",
    "\n",
    "    def set_dob(self, new_dob):\n",
    "        self.dob = new_dob\n",
    "\n",
    "    def set_breed(self, new_breed):\n",
    "        self.breed = new_breed\n",
    "\n",
    "    def dog_years(self):\n",
    "        if self.dob == \"Unknown\":\n",
    "            return -1\n",
    "        else:\n",
    "            birth_year = int(self.dob[-4:])\n",
    "            current_year = 2023\n",
    "            age_in_human_years = current_year - birth_year\n",
    "            age_in_dog_years = age_in_human_years * 7\n",
    "            return age_in_dog_years\n",
    "\n",
    "def main():\n",
    "    my_dog = Dog(\"Kutta\", \"Double XL\")\n",
    "\n",
    "    print(\"Initial Dog Details:\")\n",
    "    print(\"Name:\", my_dog.get_name())\n",
    "    print(\"Size:\", my_dog.size)\n",
    "    print(\"Breed:\", my_dog.breed)\n",
    "    print(\"Date of Birth:\", my_dog.dob)\n",
    "    my_dog.bark()\n",
    "\n",
    "    new_name = input(\"Enter a new name for the dog: \")\n",
    "    my_dog.set_name(new_name)\n",
    "\n",
    "    new_size = input(\"Enter a new size for the dog: \")\n",
    "    my_dog.set_size(new_size)\n",
    "\n",
    "    new_dob = input(\"Enter a new date of birth for the dog (DD/MM/YYYY): \")\n",
    "    my_dog.set_dob(new_dob)\n",
    "\n",
    "    new_breed = input(\"Enter a new breed for the dog: \")\n",
    "    my_dog.set_breed(new_breed)\n",
    "\n",
    "    print(\"\\nUpdated Dog Details:\")\n",
    "    print(\"Name:\", my_dog.get_name())\n",
    "    print(\"Size:\", my_dog.size)\n",
    "    print(\"Breed:\", my_dog.breed)\n",
    "    print(\"Date of Birth:\", my_dog.dob)\n",
    "    my_dog.bark()\n",
    "\n",
    "    dog_years = my_dog.dog_years()\n",
    "    if dog_years != -1:\n",
    "        print(\"\\nDog's Age in Dog Years:\", dog_years)\n",
    "    else:\n",
    "        print(\"\\nDog's Age is Unknown.\")\n",
    "\n",
    "if __name__ == \"__main__\":\n",
    "    main()\n"
   ]
  },
  {
   "cell_type": "code",
   "execution_count": null,
   "metadata": {},
   "outputs": [],
   "source": []
  }
 ],
 "metadata": {
  "kernelspec": {
   "display_name": "Python 3",
   "language": "python",
   "name": "python3"
  },
  "language_info": {
   "codemirror_mode": {
    "name": "ipython",
    "version": 3
   },
   "file_extension": ".py",
   "mimetype": "text/x-python",
   "name": "python",
   "nbconvert_exporter": "python",
   "pygments_lexer": "ipython3",
   "version": "3.12.0"
  }
 },
 "nbformat": 4,
 "nbformat_minor": 2
}
